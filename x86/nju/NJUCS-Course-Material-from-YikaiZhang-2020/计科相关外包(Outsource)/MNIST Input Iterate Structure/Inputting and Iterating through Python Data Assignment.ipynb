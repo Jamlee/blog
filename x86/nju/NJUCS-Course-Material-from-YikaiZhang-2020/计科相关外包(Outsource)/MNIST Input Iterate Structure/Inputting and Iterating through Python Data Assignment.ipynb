{
 "cells": [
  {
   "cell_type": "markdown",
   "metadata": {},
   "source": [
    "# Exercise 1: Visualize a MNIST Character\n",
    "\n",
    "The MNIST data set is often used a people's first example in a neural networks course.  It is a database fo 60,000 handwritten images of numerical digits from 0 to 9.  Your Artificial Intelligence course will also take this tack. Here is a link to the origin of the MNIST dataset: [MNIST Origin Page](http://yann.lecun.com/exdb/mnist/). Here is a more convenient place to download the MNIST data in CSV format: [MNIST in CSV from Kaggle](https://www.kaggle.com/oddrationale/mnist-in-csv/downloads/mnist-in-csv.zip/2/).  I have downloaded the data from the second source and made it available to you.  Its zip file includes two files <i>mnist_test.csv</i> and <i>mnist_train.csv</i>.  We will use the former file, which included 10,000 images. \n",
    "\n",
    "Each MNIST character is 28 $\\times$ 28 pixels, each of which are coded in grayscale as represented by a digit from 0 to 255.  The data for each image in <i>mnist_train.csv</i> is given as 784 characters ($28 \\times 28$) on a single line.\n",
    "\n",
    "The data for one example MNIST character from the file <font face = 'courier'>ministEg.txt</font> is shown below as is the character it represents.  The original MNIST data have been converted into 28 lines of 28 data elements so that it can be more easily inputted into a 28 $\\times$ 28 array or list of lists and, subsequently, rendered by matplotlib.     \n",
    "![MNIST Example Data](images/mnistEg.jpg)\n",
    "![MNIST character Image](images/mnist7.jpg)\n",
    "\n",
    "## The Task\n",
    "Import the data from  <font face = 'courier'>ministEg.txt</font>, put it into a list of lists with numerical elements, and plot it with the <font face = 'courier'>matplotlib</font> package as was done in lecture with other images.  Specifically, render the image using the <font face = 'courier'>plt.imshow()</font> and <font face = 'courier'>plt.show()</font> commands as we did in class.  The argument <font face = 'courier'>cmap = 'gray'</font> communicates to <font face = 'courier'>matplotlib</font> that the data reflect a grayscale image.  The <font face = 'courier'>import</font> statement and the aforementioned commands are included in the cell below for convenience."
   ]
  },
  {
   "cell_type": "code",
   "execution_count": 1,
   "metadata": {},
   "outputs": [
    {
     "data": {
      "image/png": "[encoded data removed]",
      "text/plain": [
       "<Figure size 432x288 with 1 Axes>"
      ]
     },
     "metadata": {},
     "output_type": "display_data"
    }
   ],
   "source": [
    "%matplotlib inline\n",
    "import matplotlib.pyplot as plt\n",
    "f = open('mnistEg.txt', 'r')\n",
    "pixelsShow = f.readlines()\n",
    "\n",
    "input_list = []\n",
    "for i in range(len(pixelsShow)):\n",
    "    new_row = []\n",
    "    pixelsShow[i] = pixelsShow[i].strip().split(',') # splited by `,`\n",
    "    pixelsShow[i] = [int(j) for j in pixelsShow[i]] # transform to `int` type.\n",
    "\n",
    "f.close()\n",
    "\n",
    "plt.imshow(pixelsShow, cmap='gray')        \n",
    "plt.show()  "
   ]
  },
  {
   "cell_type": "markdown",
   "metadata": {},
   "source": [
    "# Exercise 2: Import data from <font face='courier'>mnist_train_partial.csv</font> and create two lists from it \n",
    "\n",
    "- Create a variable named <font face = 'courier'>labels</font> that is a list of the 0th element in each line of the <font face='courier'>mnist_train_partial.csv</font> file that denotes which integer is represented in the image.  \n",
    "- Create a second variable <font face = 'courier'>pixels</font> which contains _flattened_ representations of the image data with a number of rows (sublists) equal to the number of images with each row having 784 data elements.  This flattened format is required with some neural network models.\n",
    "- The first row of <font face='courier'>mnist_train_partial.csv</font> contains column headings.  You may ignore this row.\n",
    "- Place the contents of the rows into <font face='courier'>label</font> and <font face='courier'>pixels</font> and print those 10 elements from <font face='courier'>labels</font> and <font face='courier'>pixels</font>."
   ]
  },
  {
   "cell_type": "code",
   "execution_count": 2,
   "metadata": {},
   "outputs": [
    {
     "name": "stdout",
     "output_type": "stream",
     "text": [
      "labels: [5, 0, 4, 1, 9, 2, 1, 3, 1, 4]\n",
      "pixels.shape: (10, 784)\n",
      "pixels:\n",
      "[[0 0 0 ... 0 0 0]\n",
      " [0 0 0 ... 0 0 0]\n",
      " [0 0 0 ... 0 0 0]\n",
      " ...\n",
      " [0 0 0 ... 0 0 0]\n",
      " [0 0 0 ... 0 0 0]\n",
      " [0 0 0 ... 0 0 0]]\n"
     ]
    }
   ],
   "source": [
    "import csv\n",
    "import numpy as np\n",
    "with open('./mnist_train_partial.csv', 'r') as csvFile:\n",
    "    csvReader = csv.reader(csvFile)\n",
    "    mnist_train_partial = []\n",
    "    for i, v in enumerate(csvReader):\n",
    "        if i == 0: # skip the description\n",
    "            continue\n",
    "        mnist_train_partial.append(v)\n",
    "    # convert to numpy:\n",
    "    mnist_train_partial = np.asarray(mnist_train_partial, dtype = np.int32)\n",
    "\n",
    "# get `labels`:\n",
    "labels = list(mnist_train_partial[:, 0])\n",
    "print(\"labels: {}\".format(labels))\n",
    "\n",
    "# get `pixels`:\n",
    "pixels = mnist_train_partial[:, 1:]\n",
    "print(\"pixels.shape: {}\".format(pixels.shape))\n",
    "print(\"pixels:\")\n",
    "print(pixels)\n",
    "\n",
    "# Tips: pixels is `numpy`, labels is `list`."
   ]
  },
  {
   "cell_type": "code",
   "execution_count": null,
   "metadata": {},
   "outputs": [],
   "source": []
  },
  {
   "cell_type": "markdown",
   "metadata": {},
   "source": [
    "# Exercise 3: Import data from  <font face='courier'>mnist_train_partial.csv</font> and create a list of lists\n",
    "\n",
    "<font face='courier'>mnist_train_partial.csv</font> gives the data for the 784 pixels of each character on a single line, with the first element being the <font face='courier'>label</font> of the image, which indicates the numerical digit represented in the image. The first line of the file is a legend that describes the format of the remaining 10 lines.  \n",
    "\n",
    "- Create a variable named <font face='courier'>mnist</font>, which ultimately will be a list of lists\n",
    "- Do the following for the lines in <font face='courier'>mnist_train_partial.csv</font>\n",
    "    - Insert a sublist into the list named <font face='courier'>mnist</font> for each line in <font face='courier'>mnist_train_partial.csv</font> \n",
    "    - The 0-th element in the sublists should be the image label\n",
    "    - The 1-st element in the sublists should be a 1-dimensional list of the image data\n",
    "- Note that the <font face='courier'>mnist</font> list of lists has a maximum depth of three lists, that is, it is a list of lists of lists. "
   ]
  },
  {
   "cell_type": "code",
   "execution_count": 3,
   "metadata": {},
   "outputs": [
    {
     "name": "stdout",
     "output_type": "stream",
     "text": [
      "len(mnist): 10\n",
      "len(mnistSubList) (length of sublist): 2\n",
      "len(mnistSubList[1]) (length of pixels): 784\n",
      "mnist[0] (the first of sublist mnistSubList):\n",
      "[5, [0, 0, 0, 0, 0, 0, 0, 0, 0, 0, 0, 0, 0, 0, 0, 0, 0, 0, 0, 0, 0, 0, 0, 0, 0, 0, 0, 0, 0, 0, 0, 0, 0, 0, 0, 0, 0, 0, 0, 0, 0, 0, 0, 0, 0, 0, 0, 0, 0, 0, 0, 0, 0, 0, 0, 0, 0, 0, 0, 0, 0, 0, 0, 0, 0, 0, 0, 0, 0, 0, 0, 0, 0, 0, 0, 0, 0, 0, 0, 0, 0, 0, 0, 0, 0, 0, 0, 0, 0, 0, 0, 0, 0, 0, 0, 0, 0, 0, 0, 0, 0, 0, 0, 0, 0, 0, 0, 0, 0, 0, 0, 0, 0, 0, 0, 0, 0, 0, 0, 0, 0, 0, 0, 0, 0, 0, 0, 0, 0, 0, 0, 0, 0, 0, 0, 0, 0, 0, 0, 0, 0, 0, 0, 0, 0, 0, 0, 0, 0, 0, 0, 0, 3, 18, 18, 18, 126, 136, 175, 26, 166, 255, 247, 127, 0, 0, 0, 0, 0, 0, 0, 0, 0, 0, 0, 0, 30, 36, 94, 154, 170, 253, 253, 253, 253, 253, 225, 172, 253, 242, 195, 64, 0, 0, 0, 0, 0, 0, 0, 0, 0, 0, 0, 49, 238, 253, 253, 253, 253, 253, 253, 253, 253, 251, 93, 82, 82, 56, 39, 0, 0, 0, 0, 0, 0, 0, 0, 0, 0, 0, 0, 18, 219, 253, 253, 253, 253, 253, 198, 182, 247, 241, 0, 0, 0, 0, 0, 0, 0, 0, 0, 0, 0, 0, 0, 0, 0, 0, 0, 0, 80, 156, 107, 253, 253, 205, 11, 0, 43, 154, 0, 0, 0, 0, 0, 0, 0, 0, 0, 0, 0, 0, 0, 0, 0, 0, 0, 0, 0, 14, 1, 154, 253, 90, 0, 0, 0, 0, 0, 0, 0, 0, 0, 0, 0, 0, 0, 0, 0, 0, 0, 0, 0, 0, 0, 0, 0, 0, 0, 139, 253, 190, 2, 0, 0, 0, 0, 0, 0, 0, 0, 0, 0, 0, 0, 0, 0, 0, 0, 0, 0, 0, 0, 0, 0, 0, 0, 11, 190, 253, 70, 0, 0, 0, 0, 0, 0, 0, 0, 0, 0, 0, 0, 0, 0, 0, 0, 0, 0, 0, 0, 0, 0, 0, 0, 0, 35, 241, 225, 160, 108, 1, 0, 0, 0, 0, 0, 0, 0, 0, 0, 0, 0, 0, 0, 0, 0, 0, 0, 0, 0, 0, 0, 0, 0, 81, 240, 253, 253, 119, 25, 0, 0, 0, 0, 0, 0, 0, 0, 0, 0, 0, 0, 0, 0, 0, 0, 0, 0, 0, 0, 0, 0, 0, 45, 186, 253, 253, 150, 27, 0, 0, 0, 0, 0, 0, 0, 0, 0, 0, 0, 0, 0, 0, 0, 0, 0, 0, 0, 0, 0, 0, 0, 16, 93, 252, 253, 187, 0, 0, 0, 0, 0, 0, 0, 0, 0, 0, 0, 0, 0, 0, 0, 0, 0, 0, 0, 0, 0, 0, 0, 0, 0, 249, 253, 249, 64, 0, 0, 0, 0, 0, 0, 0, 0, 0, 0, 0, 0, 0, 0, 0, 0, 0, 0, 0, 0, 0, 46, 130, 183, 253, 253, 207, 2, 0, 0, 0, 0, 0, 0, 0, 0, 0, 0, 0, 0, 0, 0, 0, 0, 0, 0, 0, 39, 148, 229, 253, 253, 253, 250, 182, 0, 0, 0, 0, 0, 0, 0, 0, 0, 0, 0, 0, 0, 0, 0, 0, 0, 0, 24, 114, 221, 253, 253, 253, 253, 201, 78, 0, 0, 0, 0, 0, 0, 0, 0, 0, 0, 0, 0, 0, 0, 0, 0, 0, 23, 66, 213, 253, 253, 253, 253, 198, 81, 2, 0, 0, 0, 0, 0, 0, 0, 0, 0, 0, 0, 0, 0, 0, 0, 0, 18, 171, 219, 253, 253, 253, 253, 195, 80, 9, 0, 0, 0, 0, 0, 0, 0, 0, 0, 0, 0, 0, 0, 0, 0, 0, 55, 172, 226, 253, 253, 253, 253, 244, 133, 11, 0, 0, 0, 0, 0, 0, 0, 0, 0, 0, 0, 0, 0, 0, 0, 0, 0, 0, 136, 253, 253, 253, 212, 135, 132, 16, 0, 0, 0, 0, 0, 0, 0, 0, 0, 0, 0, 0, 0, 0, 0, 0, 0, 0, 0, 0, 0, 0, 0, 0, 0, 0, 0, 0, 0, 0, 0, 0, 0, 0, 0, 0, 0, 0, 0, 0, 0, 0, 0, 0, 0, 0, 0, 0, 0, 0, 0, 0, 0, 0, 0, 0, 0, 0, 0, 0, 0, 0, 0, 0, 0, 0, 0, 0, 0, 0, 0, 0, 0, 0, 0, 0, 0, 0, 0, 0, 0, 0, 0, 0, 0, 0, 0, 0, 0, 0, 0, 0, 0, 0, 0, 0, 0, 0, 0, 0]]\n"
     ]
    }
   ],
   "source": [
    "mnist = []\n",
    "for i in range(mnist_train_partial.shape[0]):\n",
    "    mnistSubList = []\n",
    "    mnistSubList.append(mnist_train_partial[i][0]) # push label\n",
    "    mnistSubList.append(list(mnist_train_partial[i][1:])) # push pixels\n",
    "    mnist.append(mnistSubList)\n",
    "print(\"len(mnist): {}\".format(len(mnist)))\n",
    "print(\"len(mnistSubList) (length of sublist): {}\".format(len(mnist[0])))\n",
    "print(\"len(mnistSubList[1]) (length of pixels): {}\".format(len(mnist[0][1])))\n",
    "print(\"mnist[0] (the first of sublist mnistSubList):\")\n",
    "print(mnist[0])\n",
    "\n",
    "# Tips (the table structure):\n",
    "### mnist: [mnistSubList, mnistSubList, ... , mnistSubList]\n",
    "### mnistSubList: [label, [pixels]]"
   ]
  },
  {
   "cell_type": "markdown",
   "metadata": {},
   "source": [
    "# Exercise 4\n",
    "Modify your solution to <b>Exercise 3</b> so that the new lists of lists <font face='courier'>mnist1</font>  has these elements:\n",
    "- Its 0th element is the image label\n",
    "- Its 1st element is a list of lists with 28 sublists each with 28 elements\n",
    "When this task is successfully finished, you should be able to plot characters with the code in the second cell below."
   ]
  },
  {
   "cell_type": "code",
   "execution_count": 4,
   "metadata": {},
   "outputs": [
    {
     "name": "stdout",
     "output_type": "stream",
     "text": [
      "10\n",
      "2\n",
      "28\n",
      "28\n"
     ]
    }
   ],
   "source": [
    "mnist1 = []\n",
    "for i in range(len(mnist)):\n",
    "    mnist1SubList = [] # mnist1SubList: sublist of mnist1\n",
    "    mnist1SubList.append(mnist[i][0]) # push label\n",
    "    npPixels = np.array(mnist[i][1])\n",
    "    mnist1SubList.append(np.reshape(npPixels, (28, 28)).tolist()) # push 28x28 pixels\n",
    "    mnist1.append(mnist1SubList)\n",
    "\n",
    "print(len(mnist1))\n",
    "print(len(mnist1[0]))\n",
    "print(len(mnist1[0][1]))\n",
    "print(len(mnist1[0][1][0]))"
   ]
  },
  {
   "cell_type": "code",
   "execution_count": 5,
   "metadata": {},
   "outputs": [
    {
     "name": "stdout",
     "output_type": "stream",
     "text": [
      "MNIST label:  5\n"
     ]
    },
    {
     "data": {
      "image/png": "[encoded data removed]",
      "text/plain": [
       "<Figure size 432x288 with 1 Axes>"
      ]
     },
     "metadata": {},
     "output_type": "display_data"
    }
   ],
   "source": [
    "# This code will render the specified MNIST images if the exercise above is done successfully\n",
    "import matplotlib.pyplot as plt\n",
    "\n",
    "characterIndex = 0  # line number index from text file from 0 to 9\n",
    "print('MNIST label: ',mnist[characterIndex][0])\n",
    "plt.imshow(mnist1[characterIndex][1], cmap='gray')        \n",
    "plt.show()  "
   ]
  },
  {
   "cell_type": "markdown",
   "metadata": {},
   "source": [
    "# Exercise 5: Alter the Image in the <font face='courier'>mnistEg.txt</font> File \n",
    "\n",
    "Read in the file <font face='courier'>mnistEg.txt</font> and alter the data so that the pixels on both diagonals are red.  In other words, there should be a red 'X' over the top of the image.  Render the image with <font face='courier'>matplotlib</font>.\n",
    "\n",
    "Hints: Gray scale colors have equal proportions red, green, and blue (RGB) hues, as in these exmaples:    \n",
    "    - Black: (R,G,B) = (0,0,0)\n",
    "    - White: (R,G,B) = (255,255,255)\n",
    "    - Medium Gray: (R,G,B) = (128,128,128)\n",
    "    - Dark Gray: (R,G,B) = (80,80,80)\n",
    "Also, the RGB code for red is (255,0,0)."
   ]
  },
  {
   "cell_type": "code",
   "execution_count": 6,
   "metadata": {},
   "outputs": [
    {
     "data": {
      "image/png": "[encoded data removed]",
      "text/plain": [
       "<Figure size 432x288 with 1 Axes>"
      ]
     },
     "metadata": {},
     "output_type": "display_data"
    }
   ],
   "source": [
    "colorPixels = pixelsShow\n",
    "for j in range(28):\n",
    "    for k in range(28):\n",
    "        colorPixels[j][k] = (colorPixels[j][k], colorPixels[j][k], colorPixels[j][k])\n",
    "# a red 'X' over the top of the image:\n",
    "for i in range(28):\n",
    "    colorPixels[i][i], colorPixels[i][27 - i] = (255,0,0), (255,0,0)\n",
    "plt.imshow(colorPixels)\n",
    "plt.show()"
   ]
  },
  {
   "cell_type": "markdown",
   "metadata": {},
   "source": [
    "# Exercise 6\n",
    "\n",
    "Open the file named <font face='courier'>Q.txt</font> and convert it into a list of lists with numerical elements where each line of the text file constitutes the contents destined for each sublist.  Use the variable name <font face='courier'>Q</font> for this list of lists."
   ]
  },
  {
   "cell_type": "code",
   "execution_count": 7,
   "metadata": {},
   "outputs": [
    {
     "name": "stdout",
     "output_type": "stream",
     "text": [
      "Q:\n",
      "[[-0.2136446237564087, 0.6914951205253601, -0.14130067825317383, 0.5813472270965576, 0.31298375129699707, -0.032082825899124146], [-0.28420910239219666, 0.4631018042564392, -0.2138504683971405, -0.6123285889625549, -0.0005883228150196373, -0.06157679110765457], [-0.354773610830307, 0.23470847308635712, -0.05277771130204201, 0.1226695105433464, -0.7669532895088196, -0.34284961223602295], [-0.42533808946609497, 0.006315156351774931, 0.8420806527137756, -0.4003300070762634, 0.10868244618177414, 0.8741424679756165], [-0.4959025979042053, -0.22207815945148468, 0.03607717156410217, -0.02477017603814602, 0.5209295749664307, -0.3130148649215698], [-0.5664671063423157, -0.4504714906215668, -0.4702289402484894, 0.3334120810031891, -0.1750541627407074, -0.12461839616298676]]\n"
     ]
    }
   ],
   "source": [
    "from numpy import genfromtxt\n",
    "Q = genfromtxt('Q.txt', delimiter=',').tolist()\n",
    "print(\"Q:\")\n",
    "print(Q)"
   ]
  },
  {
   "cell_type": "markdown",
   "metadata": {},
   "source": [
    "# Exercise 7\n",
    "\n",
    "Open the file named <font face='courier'>L.txt</font> and convert it into a list with numerical elements where each line of the text file constitutes the contents destined for an element of the list.  Create a list of lists in the variable name <font face='courier'>Lambda</font> that has all zero elements except along the diagonal where you should put the values from <font face='courier'>L.txt</font> in the order they appear in <font face='courier'>L.txt</font>."
   ]
  },
  {
   "cell_type": "code",
   "execution_count": 8,
   "metadata": {},
   "outputs": [
    {
     "name": "stdout",
     "output_type": "stream",
     "text": [
      "Lambda:\n",
      "[[33.16590118408203, 0.0, 0.0, 0.0, 0.0, 0.0], [0.0, -3.1659021377563477, 0.0, 0.0, 0.0, 0.0], [0.0, 0.0, 0.0, 0.0, 0.0, 0.0], [0.0, 0.0, 0.0, 0.0, 0.0, 0.0], [0.0, 0.0, 0.0, 0.0, 0.0, 0.0], [0.0, 0.0, 0.0, 0.0, 0.0, 0.0]]\n"
     ]
    }
   ],
   "source": [
    "from numpy import genfromtxt\n",
    "L = genfromtxt('L.txt', delimiter=',').tolist()\n",
    "Lambda = np.zeros((len(L), len(L)))\n",
    "for i in range(len(L)):\n",
    "    Lambda[i][i] = L[i]\n",
    "Lambda = Lambda.tolist()\n",
    "print(\"Lambda:\")\n",
    "print(Lambda)"
   ]
  },
  {
   "cell_type": "markdown",
   "metadata": {},
   "source": [
    "# Exercise 8\n",
    "\n",
    "Use for loops to transpose the list of lists in variable <font face='courier'>Q</font> and use the variable name <font face='courier'>QT</font> for the result."
   ]
  },
  {
   "cell_type": "code",
   "execution_count": 9,
   "metadata": {},
   "outputs": [],
   "source": [
    "QT = [[0]*len(Q[0]) for i in range(len(Q))] # init\n",
    "# transpose:\n",
    "for i in range(len(Q)):\n",
    "    for j in range(len(Q[0])):\n",
    "        QT[i][j] = Q[j][i]"
   ]
  },
  {
   "cell_type": "markdown",
   "metadata": {},
   "source": [
    "# Exercise 9\n",
    "\n",
    "Square, real symmetric matrices, such as the one we represent here with $A$, can be factored into three matrices of this form:\n",
    "\n",
    "$A = Q \\Lambda Q^T $\n",
    "\n",
    "Reconstitute the matrix A implied by the list of lists you have defined using this formula and your defined Python variables:  A = Q   Lambda   QT\n",
    "\n",
    "Hint: Round each matrix element of the result to an integer.  A distinct pattern will be present in the result if you have done the computation correctly."
   ]
  },
  {
   "cell_type": "code",
   "execution_count": 10,
   "metadata": {},
   "outputs": [
    {
     "name": "stdout",
     "output_type": "stream",
     "text": [
      "A: (Round each matrix element of the result to an integer)\n",
      "[[ 0  0  2  2  4  5]\n",
      " [ 0  1  2  3  4  5]\n",
      " [ 2  2  4  4  5  7]\n",
      " [ 2  3  4  5  6  7]\n",
      " [ 4  4  5  6  7  9]\n",
      " [ 5  5  7  7  9 10]]\n"
     ]
    }
   ],
   "source": [
    "Qnp, QTnp, Lambdanp = np.array(Q), np.array(QT), np.array(Lambda)\n",
    "A = np.array(np.dot(Qnp, Lambdanp).dot(QTnp), dtype=np.int32)\n",
    "print(\"A: (Round each matrix element of the result to an integer)\")\n",
    "print(A)"
   ]
  },
  {
   "cell_type": "markdown",
   "metadata": {},
   "source": [
    "# Exercise 10\n",
    "The data in the file <font face = 'courier'>npFull.txt</font> contains information about United States National Parks.  The first data element in each line of the file contains the name of the national park.  The remaining fields represent various data about each park including:\n",
    "- The states where the park is located\n",
    "- Park acreage\n",
    "- Number of visitors to each park in 2018\n",
    "- Latitude and Longitude\n",
    "- Date that each park was established\n",
    "\n",
    "Perform these tasks with the data\n",
    "- Read the data file, converting each numerical element of data into a numerical Python element\n",
    "- Create a dictionary <font face = 'courier'>natParkDict</font>\n",
    "    - The keys are the  name of the parks\n",
    "    - The dictionary values are the remaining data elements in each file line, inserted into a list"
   ]
  },
  {
   "cell_type": "code",
   "execution_count": 11,
   "metadata": {},
   "outputs": [
    {
     "name": "stdout",
     "output_type": "stream",
     "text": [
      "             Name        Location Date established as park[5][9]  \\\n",
      "0          Acadia           Maine               February 26 1919   \n",
      "1  American Samoa  American Samoa                October 31 1988   \n",
      "2          Arches            Utah               November 12 1971   \n",
      "\n",
      "   Area (2018)[10]  Recreation visitors (2018)[7]  \\\n",
      "0         49075.26                        3537575   \n",
      "1          8256.67                          28626   \n",
      "2         76678.98                        1663557   \n",
      "\n",
      "                                          Unnamed: 5  \n",
      "0   44°21N 68°13W / 44.35°N 68.21°W / 44.35; -68.21   \n",
      "1  14°15S 170°41W / 14.25°S 170.68°W / -14.25; -1...  \n",
      "2  38°41N 109°34W / 38.68°N 109.57°W / 38.68; -10...  \n",
      "\n",
      "\n",
      "--------------------------------------------------------------------------------\n",
      "the first element of `natParkDict`:\n",
      "key: Acadia\n",
      "{'Location': 'Maine', 'Date established as park[5][9]': 'February 26 1919', 'Area (2018)[10]': 3537575.0, 'Recreation visitors (2018)[7]': 3537575, 'longitude and latitude': '44°21N 68°13W / 44.35°N 68.21°W / 44.35; -68.21 '}\n"
     ]
    }
   ],
   "source": [
    "import pandas as pd\n",
    "parkDf = pd.read_csv('npFull.txt', encoding=\"unicode_escape\")\n",
    "print(parkDf.head(3))\n",
    "colKey = [\n",
    "    \"Location\",\n",
    "    \"Date established as park[5][9]\",\n",
    "    \"Area (2018)[10]\",\n",
    "    \"Recreation visitors (2018)[7]\"\n",
    "]\n",
    "natParkDict = {}\n",
    "for index, row in parkDf.iterrows():\n",
    "    value = {}\n",
    "    # Date established as park[5][9] can be a `data` type\n",
    "    for i in [0, 1]:\n",
    "        value[colKey[i]] = row[colKey[i]]\n",
    "    value[colKey[2]] = float(row[colKey[3]])\n",
    "    value[colKey[3]] = int(row[colKey[3]])\n",
    "    value['longitude and latitude'] = row[5]\n",
    "    natParkDict[row['Name']] = value\n",
    "print(\"\\n\")\n",
    "print(\"-\"*80)\n",
    "# print the dictionary:\n",
    "print(\"the first element of `natParkDict`:\")\n",
    "for i in natParkDict.keys():\n",
    "    print(\"key: {}\".format(i))\n",
    "    print(natParkDict[i])\n",
    "    break"
   ]
  },
  {
   "cell_type": "markdown",
   "metadata": {},
   "source": [
    "# Exercise 11\n",
    "Repeat <b>Exercise 2</b> using list comprehension while naming the resulting lists <font face = 'courier'>labels1</font> and <font face = 'courier'>pixels1</font>."
   ]
  },
  {
   "cell_type": "code",
   "execution_count": 12,
   "metadata": {},
   "outputs": [
    {
     "name": "stdout",
     "output_type": "stream",
     "text": [
      "labels1: [5, 0, 4, 1, 9, 2, 1, 3, 1, 4]\n",
      "pixels1.shape: (10, 784)\n",
      "pixels1:\n",
      "[[0 0 0 ... 0 0 0]\n",
      " [0 0 0 ... 0 0 0]\n",
      " [0 0 0 ... 0 0 0]\n",
      " ...\n",
      " [0 0 0 ... 0 0 0]\n",
      " [0 0 0 ... 0 0 0]\n",
      " [0 0 0 ... 0 0 0]]\n"
     ]
    }
   ],
   "source": [
    "import csv\n",
    "import numpy as np\n",
    "with open('./mnist_train_partial.csv', 'r') as csvFile:\n",
    "    csvReader = csv.reader(csvFile)\n",
    "    \n",
    "    # **here, list comprehension**:\n",
    "    mnist_train_partial_1 = [v for v in csvReader]\n",
    "    del mnist_train_partial_1[0]\n",
    "    mnist_train_partial_1 = np.asarray(mnist_train_partial_1, dtype = np.int32)\n",
    "\n",
    "# get `labels1`:\n",
    "# list comprehension:\n",
    "labels1 = [i for i in mnist_train_partial_1[:, 0]]\n",
    "print(\"labels1: {}\".format(labels1))\n",
    "\n",
    "# get `pixels1`:\n",
    "pixels1 = mnist_train_partial_1[:, 1:]\n",
    "print(\"pixels1.shape: {}\".format(pixels1.shape))\n",
    "print(\"pixels1:\")\n",
    "print(pixels1)"
   ]
  },
  {
   "cell_type": "markdown",
   "metadata": {},
   "source": [
    "# Exercise 12\n",
    "Repeat <b>Exercise 3</b> using list comprehension while naming the resulting data structure <font face = 'courier'>mnist2</font>."
   ]
  },
  {
   "cell_type": "code",
   "execution_count": 13,
   "metadata": {},
   "outputs": [
    {
     "name": "stdout",
     "output_type": "stream",
     "text": [
      "len(mnist2): 10\n",
      "len(mnistSubList) (length of sublist): 2\n",
      "len(mnistSubList[1]) (length of pixels): 784\n",
      "mnist2[0] (the first of sublist mnistSubList):\n",
      "[5, [0, 0, 0, 0, 0, 0, 0, 0, 0, 0, 0, 0, 0, 0, 0, 0, 0, 0, 0, 0, 0, 0, 0, 0, 0, 0, 0, 0, 0, 0, 0, 0, 0, 0, 0, 0, 0, 0, 0, 0, 0, 0, 0, 0, 0, 0, 0, 0, 0, 0, 0, 0, 0, 0, 0, 0, 0, 0, 0, 0, 0, 0, 0, 0, 0, 0, 0, 0, 0, 0, 0, 0, 0, 0, 0, 0, 0, 0, 0, 0, 0, 0, 0, 0, 0, 0, 0, 0, 0, 0, 0, 0, 0, 0, 0, 0, 0, 0, 0, 0, 0, 0, 0, 0, 0, 0, 0, 0, 0, 0, 0, 0, 0, 0, 0, 0, 0, 0, 0, 0, 0, 0, 0, 0, 0, 0, 0, 0, 0, 0, 0, 0, 0, 0, 0, 0, 0, 0, 0, 0, 0, 0, 0, 0, 0, 0, 0, 0, 0, 0, 0, 0, 3, 18, 18, 18, 126, 136, 175, 26, 166, 255, 247, 127, 0, 0, 0, 0, 0, 0, 0, 0, 0, 0, 0, 0, 30, 36, 94, 154, 170, 253, 253, 253, 253, 253, 225, 172, 253, 242, 195, 64, 0, 0, 0, 0, 0, 0, 0, 0, 0, 0, 0, 49, 238, 253, 253, 253, 253, 253, 253, 253, 253, 251, 93, 82, 82, 56, 39, 0, 0, 0, 0, 0, 0, 0, 0, 0, 0, 0, 0, 18, 219, 253, 253, 253, 253, 253, 198, 182, 247, 241, 0, 0, 0, 0, 0, 0, 0, 0, 0, 0, 0, 0, 0, 0, 0, 0, 0, 0, 80, 156, 107, 253, 253, 205, 11, 0, 43, 154, 0, 0, 0, 0, 0, 0, 0, 0, 0, 0, 0, 0, 0, 0, 0, 0, 0, 0, 0, 14, 1, 154, 253, 90, 0, 0, 0, 0, 0, 0, 0, 0, 0, 0, 0, 0, 0, 0, 0, 0, 0, 0, 0, 0, 0, 0, 0, 0, 0, 139, 253, 190, 2, 0, 0, 0, 0, 0, 0, 0, 0, 0, 0, 0, 0, 0, 0, 0, 0, 0, 0, 0, 0, 0, 0, 0, 0, 11, 190, 253, 70, 0, 0, 0, 0, 0, 0, 0, 0, 0, 0, 0, 0, 0, 0, 0, 0, 0, 0, 0, 0, 0, 0, 0, 0, 0, 35, 241, 225, 160, 108, 1, 0, 0, 0, 0, 0, 0, 0, 0, 0, 0, 0, 0, 0, 0, 0, 0, 0, 0, 0, 0, 0, 0, 0, 81, 240, 253, 253, 119, 25, 0, 0, 0, 0, 0, 0, 0, 0, 0, 0, 0, 0, 0, 0, 0, 0, 0, 0, 0, 0, 0, 0, 0, 45, 186, 253, 253, 150, 27, 0, 0, 0, 0, 0, 0, 0, 0, 0, 0, 0, 0, 0, 0, 0, 0, 0, 0, 0, 0, 0, 0, 0, 16, 93, 252, 253, 187, 0, 0, 0, 0, 0, 0, 0, 0, 0, 0, 0, 0, 0, 0, 0, 0, 0, 0, 0, 0, 0, 0, 0, 0, 0, 249, 253, 249, 64, 0, 0, 0, 0, 0, 0, 0, 0, 0, 0, 0, 0, 0, 0, 0, 0, 0, 0, 0, 0, 0, 46, 130, 183, 253, 253, 207, 2, 0, 0, 0, 0, 0, 0, 0, 0, 0, 0, 0, 0, 0, 0, 0, 0, 0, 0, 0, 39, 148, 229, 253, 253, 253, 250, 182, 0, 0, 0, 0, 0, 0, 0, 0, 0, 0, 0, 0, 0, 0, 0, 0, 0, 0, 24, 114, 221, 253, 253, 253, 253, 201, 78, 0, 0, 0, 0, 0, 0, 0, 0, 0, 0, 0, 0, 0, 0, 0, 0, 0, 23, 66, 213, 253, 253, 253, 253, 198, 81, 2, 0, 0, 0, 0, 0, 0, 0, 0, 0, 0, 0, 0, 0, 0, 0, 0, 18, 171, 219, 253, 253, 253, 253, 195, 80, 9, 0, 0, 0, 0, 0, 0, 0, 0, 0, 0, 0, 0, 0, 0, 0, 0, 55, 172, 226, 253, 253, 253, 253, 244, 133, 11, 0, 0, 0, 0, 0, 0, 0, 0, 0, 0, 0, 0, 0, 0, 0, 0, 0, 0, 136, 253, 253, 253, 212, 135, 132, 16, 0, 0, 0, 0, 0, 0, 0, 0, 0, 0, 0, 0, 0, 0, 0, 0, 0, 0, 0, 0, 0, 0, 0, 0, 0, 0, 0, 0, 0, 0, 0, 0, 0, 0, 0, 0, 0, 0, 0, 0, 0, 0, 0, 0, 0, 0, 0, 0, 0, 0, 0, 0, 0, 0, 0, 0, 0, 0, 0, 0, 0, 0, 0, 0, 0, 0, 0, 0, 0, 0, 0, 0, 0, 0, 0, 0, 0, 0, 0, 0, 0, 0, 0, 0, 0, 0, 0, 0, 0, 0, 0, 0, 0, 0, 0, 0, 0, 0, 0, 0]]\n"
     ]
    }
   ],
   "source": [
    "mnist2 = []\n",
    "for i in range(mnist_train_partial.shape[0]):\n",
    "    mnistSubList = []\n",
    "    mnistSubList.append(mnist_train_partial[i][0]) # push label\n",
    "    \n",
    "    # list comprehension:\n",
    "    mnistSubList.append([mnist_train_partial[i][k] for k in range(1, len(mnist_train_partial[i]))]) # push pixels\n",
    "    mnist2.append(mnistSubList)\n",
    "print(\"len(mnist2): {}\".format(len(mnist2)))\n",
    "print(\"len(mnistSubList) (length of sublist): {}\".format(len(mnist2[0])))\n",
    "print(\"len(mnistSubList[1]) (length of pixels): {}\".format(len(mnist2[0][1])))\n",
    "print(\"mnist2[0] (the first of sublist mnistSubList):\")\n",
    "print(mnist2[0])\n",
    "\n",
    "# Tips (the table structure):\n",
    "### mnist2: [mnistSubList, mnistSubList, ... , mnistSubList]\n",
    "### mnistSubList: [label, [pixels]]"
   ]
  },
  {
   "cell_type": "markdown",
   "metadata": {},
   "source": [
    "# Exercise 13\n",
    "Repeat <b>Exercise 4</b> using list comprehension while naming the resulting data structure <font face = 'courier'>mnist3</font>."
   ]
  },
  {
   "cell_type": "code",
   "execution_count": 14,
   "metadata": {},
   "outputs": [
    {
     "name": "stdout",
     "output_type": "stream",
     "text": [
      "10\n",
      "2\n",
      "28\n",
      "28\n",
      "MNIST label:  5\n"
     ]
    },
    {
     "data": {
      "image/png": "[encoded data removed]",
      "text/plain": [
       "<Figure size 432x288 with 1 Axes>"
      ]
     },
     "metadata": {},
     "output_type": "display_data"
    }
   ],
   "source": [
    "mnist3 = []\n",
    "for i in range(len(mnist)):\n",
    "    mnist1SubList = [] # mnist1SubList: sublist of mnist3\n",
    "    mnist1SubList.append(mnist[i][0]) # push label\n",
    "    npPixels = np.array(mnist[i][1])\n",
    "    \n",
    "    # list comprehension:\n",
    "    subsub = [npPixels[i:i+28].tolist() for i in range(0, 28 * 28, 28)]\n",
    "    mnist1SubList.append(subsub) # push 28x28 pixels\n",
    "    mnist3.append(mnist1SubList)\n",
    "\n",
    "print(len(mnist3))\n",
    "print(len(mnist3[0]))\n",
    "print(len(mnist3[0][1]))\n",
    "print(len(mnist3[0][1][0]))\n",
    "\n",
    "# This code will render the specified MNIST images if the exercise above is done successfully\n",
    "import matplotlib.pyplot as plt\n",
    "\n",
    "characterIndex = 0  # line number index from text file from 0 to 9\n",
    "print('MNIST label: ',mnist3[characterIndex][0])\n",
    "plt.imshow(mnist1[characterIndex][1], cmap='gray')        \n",
    "plt.show()"
   ]
  }
 ],
 "metadata": {
  "kernelspec": {
   "display_name": "Python 3",
   "language": "python",
   "name": "python3"
  },
  "language_info": {
   "codemirror_mode": {
    "name": "ipython",
    "version": 3
   },
   "file_extension": ".py",
   "mimetype": "text/x-python",
   "name": "python",
   "nbconvert_exporter": "python",
   "pygments_lexer": "ipython3",
   "version": "3.6.5"
  }
 },
 "nbformat": 4,
 "nbformat_minor": 2
}
